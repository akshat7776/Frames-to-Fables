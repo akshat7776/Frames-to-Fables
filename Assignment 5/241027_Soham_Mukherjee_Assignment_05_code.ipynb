{
  "nbformat": 4,
  "nbformat_minor": 0,
  "metadata": {
    "colab": {
      "provenance": [],
      "gpuType": "T4",
      "authorship_tag": "ABX9TyN1ENljIMl4P8xwWeYBo1aS",
      "include_colab_link": true
    },
    "kernelspec": {
      "name": "python3",
      "display_name": "Python 3"
    },
    "language_info": {
      "name": "python"
    },
    "accelerator": "GPU"
  },
  "cells": [
    {
      "cell_type": "markdown",
      "metadata": {
        "id": "view-in-github",
        "colab_type": "text"
      },
      "source": [
        "<a href=\"https://colab.research.google.com/github/gaixen/Frames-to-Fables_assignment01/blob/main/Assignment%205/241027_Soham_Mukherjee_Assignment_05_code.ipynb\" target=\"_parent\"><img src=\"https://colab.research.google.com/assets/colab-badge.svg\" alt=\"Open In Colab\"/></a>"
      ]
    },
    {
      "cell_type": "code",
      "source": [
        "!nvidia-smi"
      ],
      "metadata": {
        "colab": {
          "base_uri": "https://localhost:8080/"
        },
        "id": "dJExkthuhlwv",
        "outputId": "6bbf26c9-0aea-404d-d48d-110b9c3e1bc7"
      },
      "execution_count": 1,
      "outputs": [
        {
          "output_type": "stream",
          "name": "stdout",
          "text": [
            "Tue Jun 24 10:40:35 2025       \n",
            "+-----------------------------------------------------------------------------------------+\n",
            "| NVIDIA-SMI 550.54.15              Driver Version: 550.54.15      CUDA Version: 12.4     |\n",
            "|-----------------------------------------+------------------------+----------------------+\n",
            "| GPU  Name                 Persistence-M | Bus-Id          Disp.A | Volatile Uncorr. ECC |\n",
            "| Fan  Temp   Perf          Pwr:Usage/Cap |           Memory-Usage | GPU-Util  Compute M. |\n",
            "|                                         |                        |               MIG M. |\n",
            "|=========================================+========================+======================|\n",
            "|   0  Tesla T4                       Off |   00000000:00:04.0 Off |                    0 |\n",
            "| N/A   43C    P8             12W /   70W |       0MiB /  15360MiB |      0%      Default |\n",
            "|                                         |                        |                  N/A |\n",
            "+-----------------------------------------+------------------------+----------------------+\n",
            "                                                                                         \n",
            "+-----------------------------------------------------------------------------------------+\n",
            "| Processes:                                                                              |\n",
            "|  GPU   GI   CI        PID   Type   Process name                              GPU Memory |\n",
            "|        ID   ID                                                               Usage      |\n",
            "|=========================================================================================|\n",
            "|  No running processes found                                                             |\n",
            "+-----------------------------------------------------------------------------------------+\n"
          ]
        }
      ]
    },
    {
      "cell_type": "code",
      "source": [
        "import torch"
      ],
      "metadata": {
        "id": "_9_TofS4vkv_"
      },
      "execution_count": 33,
      "outputs": []
    },
    {
      "cell_type": "code",
      "source": [
        "from PIL import Image\n",
        "IMAGE_URLS = [\n",
        "    \"https://images.unsplash.com/photo-1750126833705-ba98013f16f3\",\n",
        "    \"https://images.unsplash.com/photo-1749627995669-4d4dda3a9c1d\",\n",
        "    \"https://images.unsplash.com/photo-1744294724362-3f5c404c771a\",\n",
        "    \"https://images.unsplash.com/photo-1750075750236-3f8924fc0e35\"\n",
        "]"
      ],
      "metadata": {
        "id": "LQTdABOEhzy2"
      },
      "execution_count": 16,
      "outputs": []
    },
    {
      "cell_type": "markdown",
      "source": [
        "## pipeline method to generate captions"
      ],
      "metadata": {
        "id": "2SJyQyDtrkfl"
      }
    },
    {
      "cell_type": "code",
      "source": [
        "from transformers import pipeline\n",
        "captioner = pipeline(\"image-to-text\" , model = \"Salesforce/blip-image-captioning-large\")\n",
        "captioner(IMAGE_URLS[0])"
      ],
      "metadata": {
        "colab": {
          "base_uri": "https://localhost:8080/"
        },
        "id": "BDmklZpdlXWW",
        "outputId": "c307e7c5-b46a-4983-f9b8-4678e1f43b70"
      },
      "execution_count": 14,
      "outputs": [
        {
          "output_type": "stream",
          "name": "stderr",
          "text": [
            "Device set to use cuda:0\n"
          ]
        },
        {
          "output_type": "execute_result",
          "data": {
            "text/plain": [
              "[{'generated_text': 'there are many boats that are tied to the dock in the water'}]"
            ]
          },
          "metadata": {},
          "execution_count": 14
        }
      ]
    },
    {
      "cell_type": "code",
      "source": [
        "def image_to_text(image_url):\n",
        "  image_captions = []\n",
        "  for image in image_url:\n",
        "    image_captions.append(captioner(image))\n",
        "\n",
        "  return image_captions\n",
        "\n",
        "image_captions = image_to_text(IMAGE_URLS)\n",
        "\n",
        "def image_to_tensors(i):\n",
        "  image = Image.open(requests.get(IMAGE_URLS[i] , stream = True).raw)\n",
        "  inputs = processor(text = [image_captions[i]] , images = image , return_tensors = \"pt\" , padding = True)\n",
        "  outputs = model(**inputs)\n",
        "  logits_per_image = outputs.logits_per_image\n",
        "  probs = logits_per_image.softmax(dim = 1)\n",
        "  return probs"
      ],
      "metadata": {
        "id": "QBr1AcCjmCe2"
      },
      "execution_count": 17,
      "outputs": []
    },
    {
      "cell_type": "code",
      "source": [
        "image_captions"
      ],
      "metadata": {
        "colab": {
          "base_uri": "https://localhost:8080/"
        },
        "id": "HhrurA59oiMn",
        "outputId": "5b9341d2-f532-4af2-9bd2-6a4aa3c4f3c6"
      },
      "execution_count": 20,
      "outputs": [
        {
          "output_type": "execute_result",
          "data": {
            "text/plain": [
              "[[{'generated_text': 'there are many boats that are tied to the dock in the water'}],\n",
              " [{'generated_text': 'there are yellow flowers growing on the side of a mountain'}],\n",
              " [{'generated_text': 'someone taking a picture of a tree with a camera'}],\n",
              " [{'generated_text': 'there is a blue car parked in front of a building'}]]"
            ]
          },
          "metadata": {},
          "execution_count": 20
        }
      ]
    },
    {
      "cell_type": "markdown",
      "source": [
        "## Captioning of the URL images\n"
      ],
      "metadata": {
        "id": "kB049AFzrUak"
      }
    },
    {
      "cell_type": "code",
      "source": [
        "import requests\n",
        "from PIL import Image\n",
        "from transformers import BlipProcessor, BlipForConditionalGeneration\n",
        "\n",
        "processor = BlipProcessor.from_pretrained(\"Salesforce/blip-image-captioning-large\")\n",
        "model = BlipForConditionalGeneration.from_pretrained(\"Salesforce/blip-image-captioning-large\")"
      ],
      "metadata": {
        "id": "HAG_4d19kEJX"
      },
      "execution_count": 22,
      "outputs": []
    },
    {
      "cell_type": "code",
      "source": [
        "captions = []\n",
        "def image_to_text(i):\n",
        "  img_url = IMAGE_URLS[i]\n",
        "  raw_image = Image.open(requests.get(img_url, stream=True).raw).convert('RGB')\n",
        "  text = \"a photography of\"\n",
        "  inputs = processor(raw_image, text, return_tensors=\"pt\")\n",
        "  out = model.generate(**inputs)\n",
        "  print(processor.decode(out[0], skip_special_tokens=True))\n",
        "  inputs = processor(raw_image, return_tensors=\"pt\")\n",
        "  out = model.generate(**inputs)\n",
        "  captions.append(processor.decode(out[0], skip_special_tokens=True))"
      ],
      "metadata": {
        "id": "evlG3_pXpYQY"
      },
      "execution_count": 24,
      "outputs": []
    },
    {
      "cell_type": "code",
      "source": [
        "for i in range(len(IMAGE_URLS)):\n",
        "  image_to_text(i)"
      ],
      "metadata": {
        "colab": {
          "base_uri": "https://localhost:8080/"
        },
        "id": "rKNsIQ5-p9G-",
        "outputId": "616fdd0f-6d30-4c62-e3b1-67e514a8166c"
      },
      "execution_count": 25,
      "outputs": [
        {
          "output_type": "stream",
          "name": "stdout",
          "text": [
            "a photography of a row of boats tied to a dock in a lake\n",
            "a photography of a mountain with a bunch of yellow flowers\n",
            "a photography of a person taking a picture with a camera\n",
            "a photography of a blue car parked in front of a building\n"
          ]
        }
      ]
    },
    {
      "cell_type": "markdown",
      "source": [
        "## CLIP Model based approach"
      ],
      "metadata": {
        "id": "bxvVXt52rZvf"
      }
    },
    {
      "cell_type": "code",
      "execution_count": 28,
      "metadata": {
        "id": "xQmhnUYzgzZe"
      },
      "outputs": [],
      "source": [
        "from PIL import Image\n",
        "import requests\n",
        "from transformers import CLIPProcessor, CLIPModel\n",
        "\n",
        "MODEL = \"openai/clip-vit-base-patch32\"\n",
        "clip_model = CLIPModel.from_pretrained(MODEL)\n",
        "clip_processor = CLIPProcessor.from_pretrained(MODEL)"
      ]
    },
    {
      "cell_type": "code",
      "source": [
        "tensors = []\n",
        "def image_to_tensors(i):\n",
        "  image = Image.open(requests.get(IMAGE_URLS[i] , stream = True).raw)\n",
        "  inputs = clip_processor(text = [captions[i]] , images = image , return_tensors = \"pt\" , padding = True)\n",
        "  with torch.no_grad():\n",
        "    outputs = clip_model(**inputs)\n",
        "  image_embeds = outputs.image_embeds\n",
        "  tensors.append(image_embeds.squeeze(0))\n",
        "\n",
        "for i in range (len(IMAGE_URLS)):\n",
        "  image_to_tensors(i)"
      ],
      "metadata": {
        "id": "bUcksT3Rjqfv"
      },
      "execution_count": 34,
      "outputs": []
    },
    {
      "cell_type": "code",
      "source": [
        "query = input(\"Enter which image are you looking for: \")"
      ],
      "metadata": {
        "colab": {
          "base_uri": "https://localhost:8080/"
        },
        "id": "wbkqUJ_kwSun",
        "outputId": "aa0f6660-a9c5-43d5-e996-aba87c9b6544"
      },
      "execution_count": 36,
      "outputs": [
        {
          "name": "stdout",
          "output_type": "stream",
          "text": [
            "Enter which image are you looking for: hilly yellow flowers\n"
          ]
        }
      ]
    },
    {
      "cell_type": "code",
      "source": [
        "inputs = clip_processor(text = [query] , images = None , return_tensors = \"pt\" , padding = True)\n",
        "with torch.no_grad():\n",
        "  outputs = clip_model.get_text_features(**inputs)\n",
        "text_embeds = outputs.squeeze(0)"
      ],
      "metadata": {
        "id": "obSXalkLv-xE"
      },
      "execution_count": 39,
      "outputs": []
    },
    {
      "cell_type": "code",
      "source": [
        "similarity_scores = [torch.dot(text_embeds, tensor) for tensor in tensors]\n",
        "most_similar_index = similarity_scores.index(max(similarity_scores))\n",
        "print(f\"The most similar image is: {IMAGE_URLS[most_similar_index]} and the index is : {most_similar_index}\")"
      ],
      "metadata": {
        "colab": {
          "base_uri": "https://localhost:8080/"
        },
        "id": "gNye8D55xmgd",
        "outputId": "dca76ac1-7278-43d0-b472-5edd583b7e4e"
      },
      "execution_count": 41,
      "outputs": [
        {
          "output_type": "stream",
          "name": "stdout",
          "text": [
            "The most similar image is: https://images.unsplash.com/photo-1749627995669-4d4dda3a9c1d and the index is : 1\n"
          ]
        }
      ]
    },
    {
      "cell_type": "markdown",
      "source": [
        "## BLIP based Task"
      ],
      "metadata": {
        "id": "wCpPW6gtyohW"
      }
    },
    {
      "cell_type": "code",
      "source": [
        "import json\n",
        "import os\n",
        "# loading the json file\n",
        "with open(\"/content/filtered_questions.json\", \"r\") as f:\n",
        "    qa_raw = json.load(f)\n",
        "\n",
        "qa = []\n",
        "for entry in qa_raw:\n",
        "    question, answer, img_index = entry\n",
        "    qa.append({\n",
        "        \"question\": question,\n",
        "        \"answer\": answer,\n",
        "        \"image\": f\"{img_index}.png\"\n",
        "    })\n"
      ],
      "metadata": {
        "id": "00AOZaGO7Hcu"
      },
      "execution_count": 21,
      "outputs": []
    },
    {
      "cell_type": "code",
      "source": [
        "from PIL import Image\n",
        "for i in range(2):\n",
        "    print(f\"Q: {qa[i]['question']}\")\n",
        "    print(f\"A: {qa[i]['answer']}\")"
      ],
      "metadata": {
        "colab": {
          "base_uri": "https://localhost:8080/"
        },
        "id": "GKgwbIIF7smQ",
        "outputId": "705dd0d8-5e0a-4a85-a46e-9427b11ae177"
      },
      "execution_count": 22,
      "outputs": [
        {
          "output_type": "stream",
          "name": "stdout",
          "text": [
            "Q: what is the blue shape?\n",
            "A: rectangle\n",
            "Q: what color is the shape?\n",
            "A: blue\n"
          ]
        }
      ]
    },
    {
      "cell_type": "code",
      "source": [
        "from transformers import BlipProcessor, BlipForQuestionAnswering\n",
        "import torch\n",
        "\n",
        "device = \"cuda\" if torch.cuda.is_available() else \"cpu\"\n",
        "\n",
        "processor = BlipProcessor.from_pretrained(\"Salesforce/blip-vqa-base\")\n",
        "model = BlipForQuestionAnswering.from_pretrained(\"Salesforce/blip-vqa-base\").to(device)\n",
        "\n",
        "def vqa(question, image_path):\n",
        "    raw_image = Image.open(image_path).convert(\"RGB\")\n",
        "    inputs = processor(raw_image, question, return_tensors=\"pt\").to(device)\n",
        "\n",
        "    with torch.no_grad():\n",
        "        out = model.generate(**inputs)\n",
        "\n",
        "    return processor.decode(out[0], skip_special_tokens=True)\n"
      ],
      "metadata": {
        "id": "s4UANFXg8bMs"
      },
      "execution_count": 23,
      "outputs": []
    },
    {
      "cell_type": "code",
      "source": [
        "import pandas as pd\n",
        "results = []\n",
        "for pair in qa:\n",
        "    img_path = os.path.join(\"images\", pair[\"image\"])\n",
        "    pred = vqa(pair[\"question\"] , img_path)\n",
        "    results.append({\n",
        "        \"image\": pair[\"image\"],\n",
        "        \"question\": pair[\"question\"],\n",
        "        \"ground_truth\": pair[\"answer\"],\n",
        "        \"predicted\": pred\n",
        "    })\n",
        "df = pd.DataFrame(results)\n",
        "df.to_csv(\"results.csv\", index=False)"
      ],
      "metadata": {
        "id": "V7C-tnSC8tWD"
      },
      "execution_count": 25,
      "outputs": []
    }
  ]
}