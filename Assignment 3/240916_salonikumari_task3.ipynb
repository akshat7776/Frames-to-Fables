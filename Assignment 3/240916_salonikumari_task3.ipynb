{
 "cells": [
  {
   "cell_type": "markdown",
   "metadata": {
    "id": "iQ5wPjPb57pb"
   },
   "source": [
    "\n",
    "\n",
    "\n",
    "\n",
    "\n",
    "\n",
    "\n",
    "\n",
    "\n",
    "\n",
    "\n",
    "\n",
    "\n",
    "\n",
    "\n",
    "\n",
    "\n",
    "\n",
    "\n",
    "\n",
    "\n",
    "\n",
    "\n",
    "\n",
    "\n",
    "\n",
    "\n",
    "\n",
    "\n",
    "\n",
    "\n",
    "\n",
    "\n",
    "\n",
    "\n",
    "\n",
    "\n",
    "\n",
    "\n",
    "\n",
    "\n",
    "\n",
    "\n",
    "\n",
    "## **Deep Learning**\n",
    "In this section We will build a simple multilayer perceptron network(**MLP**) in TensorFlow"
   ]
  },
  {
   "cell_type": "code",
   "execution_count": 1,
   "metadata": {
    "executionInfo": {
     "elapsed": 13021,
     "status": "ok",
     "timestamp": 1748436805568,
     "user": {
      "displayName": "Saloni Kumari",
      "userId": "10225912248030534230"
     },
     "user_tz": -330
    },
    "id": "EGoZEKIbdXZD"
   },
   "outputs": [],
   "source": [
    "# Lets import the required libraries\n",
    "import numpy as np\n",
    "from tensorflow import keras\n",
    "from tensorflow.keras import layers\n",
    "import matplotlib.pyplot as plt"
   ]
  },
  {
   "cell_type": "markdown",
   "metadata": {
    "id": "ThuZ51gEdXZF"
   },
   "source": [
    "### **Load Dataset**\n",
    "We will be using MNIST dataset of handwritten digits\n",
    "\n",
    "Just run the cell below to load dataset"
   ]
  },
  {
   "cell_type": "code",
   "execution_count": 2,
   "metadata": {
    "colab": {
     "base_uri": "https://localhost:8080/"
    },
    "executionInfo": {
     "elapsed": 657,
     "status": "ok",
     "timestamp": 1748436811060,
     "user": {
      "displayName": "Saloni Kumari",
      "userId": "10225912248030534230"
     },
     "user_tz": -330
    },
    "id": "Xj3J8Dp-dXZG",
    "outputId": "4bfe126a-41cf-4dae-f862-fd7753e44825"
   },
   "outputs": [
    {
     "name": "stdout",
     "output_type": "stream",
     "text": [
      "Downloading data from https://storage.googleapis.com/tensorflow/tf-keras-datasets/mnist.npz\n",
      "\u001b[1m11490434/11490434\u001b[0m \u001b[32m━━━━━━━━━━━━━━━━━━━━\u001b[0m\u001b[37m\u001b[0m \u001b[1m0s\u001b[0m 0us/step\n",
      "No. of training examples =  60000\n",
      "Size of each image in dataset =  (28, 28)\n",
      "No. of test examples =  10000\n"
     ]
    }
   ],
   "source": [
    "mnist = keras.datasets.mnist\n",
    "(x_train, y_train), (x_test, y_test) = mnist.load_data()\n",
    "print(\"No. of training examples = \",x_train.shape[0])\n",
    "print(\"Size of each image in dataset = \",x_train.shape[1:])\n",
    "print(\"No. of test examples = \",x_test.shape[0])"
   ]
  },
  {
   "cell_type": "code",
   "execution_count": 3,
   "metadata": {
    "colab": {
     "base_uri": "https://localhost:8080/",
     "height": 140
    },
    "executionInfo": {
     "elapsed": 238,
     "status": "ok",
     "timestamp": 1748436818087,
     "user": {
      "displayName": "Saloni Kumari",
      "userId": "10225912248030534230"
     },
     "user_tz": -330
    },
    "id": "XX9xW4ardXZG",
    "outputId": "7094a5b9-46e0-49f1-c763-19823d473067"
   },
   "outputs": [
    {
     "name": "stdout",
     "output_type": "stream",
     "text": [
      "label: 8       8       8       6       2       "
     ]
    },
    {
     "data": {
      "image/png": "[encoded data removed]",
      "text/plain": [
       "<Figure size 640x480 with 5 Axes>"
      ]
     },
     "metadata": {},
     "output_type": "display_data"
    }
   ],
   "source": [
    "# Run this cell to visualize some of the images from dataset\n",
    "\n",
    "n = 5    # = no. of images to visualize\n",
    "\n",
    "index = np.random.choice(x_train.shape[0],5)  # choose random index\n",
    "print(\"label: \",end=\"\")\n",
    "\n",
    "for i,ind in enumerate(index):\n",
    "    plt.subplot(1,n,i+1)\n",
    "    plt.imshow(x_train[ind],cmap=\"gray\")\n",
    "    plt.axis(\"off\")\n",
    "    print(y_train[ind],end=\"       \")\n",
    "\n",
    "plt.show()"
   ]
  },
  {
   "cell_type": "markdown",
   "metadata": {
    "id": "FQcA9i9YdXZH"
   },
   "source": [
    "#### Preprocess dataset\n",
    "Since we are building a MLP model the input to the model should be a vector rather than a 28 by 28 matrix.\n",
    "\n",
    "So your **First Task** is to flatten the images\n",
    "\n",
    "(Hint: use *reshape()* method of arrays...)\n",
    "\n",
    "Next, create validation dataset out of training dataset.\n",
    "\n",
    "You can use 50K images for training and 10K for validation"
   ]
  },
  {
   "cell_type": "code",
   "execution_count": 4,
   "metadata": {
    "executionInfo": {
     "elapsed": 204,
     "status": "ok",
     "timestamp": 1748437086888,
     "user": {
      "displayName": "Saloni Kumari",
      "userId": "10225912248030534230"
     },
     "user_tz": -330
    },
    "id": "RXnkfE6gdXZI"
   },
   "outputs": [],
   "source": [
    "# Flatten the images into 1-d vectors\n",
    "\n",
    "x_train_flatten = x_train.reshape(x_train.shape[0], -1) / 255.0                                  # flatten the images of training set\n",
    "x_test_flatten =  x_test.reshape(x_test.shape[0], -1) / 255.0                                # flatten th eimages of test set\n",
    "\n",
    "\n",
    "# Divide the training data into training and validation data....\n",
    "\n",
    "n_validation = 10000                                        # choose number of images to be used for validation\n",
    "\n",
    "x_validation = x_train_flatten[:n_validation]\n",
    "y_validation = y_train[:n_validation]\n",
    "\n",
    "x_train_flatten =x_train_flatten[n_validation:]\n",
    "y_train = y_train[n_validation:]\n"
   ]
  },
  {
   "cell_type": "markdown",
   "metadata": {
    "id": "fMGl2aq3dXZJ"
   },
   "source": [
    "### **Build a model**\n",
    "You can choose whatever architechure you want, but ensure that it is **not too deep** as that will take too much time to train and **not too shallow** as that will give very low accuracy."
   ]
  },
  {
   "cell_type": "code",
   "execution_count": 5,
   "metadata": {
    "colab": {
     "base_uri": "https://localhost:8080/",
     "height": 203
    },
    "executionInfo": {
     "elapsed": 411,
     "status": "ok",
     "timestamp": 1748437174265,
     "user": {
      "displayName": "Saloni Kumari",
      "userId": "10225912248030534230"
     },
     "user_tz": -330
    },
    "id": "A7yr3nwTdXZK",
    "outputId": "154bf08c-c774-4308-b364-4c713d98837d"
   },
   "outputs": [
    {
     "data": {
      "text/html": [
       "<div style=\"max-width:800px; border: 1px solid var(--colab-border-color);\"><style>\n",
       "      pre.function-repr-contents {\n",
       "        overflow-x: auto;\n",
       "        padding: 8px 12px;\n",
       "        max-height: 500px;\n",
       "      }\n",
       "\n",
       "      pre.function-repr-contents.function-repr-contents-collapsed {\n",
       "        cursor: pointer;\n",
       "        max-height: 100px;\n",
       "      }\n",
       "    </style>\n",
       "    <pre style=\"white-space: initial; background:\n",
       "         var(--colab-secondary-surface-color); padding: 8px 12px;\n",
       "         border-bottom: 1px solid var(--colab-border-color);\"><b>keras.src.models.model.Model.summary</b><br/>def summary(line_length=None, positions=None, print_fn=None, expand_nested=False, show_trainable=False, layer_range=None)</pre><pre class=\"function-repr-contents function-repr-contents-collapsed\" style=\"\"><a class=\"filepath\" style=\"display:none\" href=\"#\">/usr/local/lib/python3.11/dist-packages/keras/src/models/model.py</a>Prints a string summary of the network.\n",
       "\n",
       "Args:\n",
       "    line_length: Total length of printed lines\n",
       "        (e.g. set this to adapt the display to different\n",
       "        terminal window sizes).\n",
       "    positions: Relative or absolute positions of log elements\n",
       "        in each line. If not provided, becomes\n",
       "        `[0.3, 0.6, 0.70, 1.]`. Defaults to `None`.\n",
       "    print_fn: Print function to use. By default, prints to `stdout`.\n",
       "        If `stdout` doesn&#x27;t work in your environment, change to `print`.\n",
       "        It will be called on each line of the summary.\n",
       "        You can set it to a custom function\n",
       "        in order to capture the string summary.\n",
       "    expand_nested: Whether to expand the nested models.\n",
       "        Defaults to `False`.\n",
       "    show_trainable: Whether to show if a layer is trainable.\n",
       "        Defaults to `False`.\n",
       "    layer_range: a list or tuple of 2 strings,\n",
       "        which is the starting layer name and ending layer name\n",
       "        (both inclusive) indicating the range of layers to be printed\n",
       "        in summary. It also accepts regex patterns instead of exact\n",
       "        names. In this case, the start predicate will be\n",
       "        the first element that matches `layer_range[0]`\n",
       "        and the end predicate will be the last element\n",
       "        that matches `layer_range[1]`.\n",
       "        By default `None` considers all layers of the model.\n",
       "\n",
       "Raises:\n",
       "    ValueError: if `summary()` is called before the model is built.</pre>\n",
       "      <script>\n",
       "      if (google.colab.kernel.accessAllowed && google.colab.files && google.colab.files.view) {\n",
       "        for (const element of document.querySelectorAll('.filepath')) {\n",
       "          element.style.display = 'block'\n",
       "          element.onclick = (event) => {\n",
       "            event.preventDefault();\n",
       "            event.stopPropagation();\n",
       "            google.colab.files.view(element.textContent, 218);\n",
       "          };\n",
       "        }\n",
       "      }\n",
       "      for (const element of document.querySelectorAll('.function-repr-contents')) {\n",
       "        element.onclick = (event) => {\n",
       "          event.preventDefault();\n",
       "          event.stopPropagation();\n",
       "          element.classList.toggle('function-repr-contents-collapsed');\n",
       "        };\n",
       "      }\n",
       "      </script>\n",
       "      </div>"
      ],
      "text/plain": [
       "<bound method Model.summary of <Sequential name=sequential, built=True>>"
      ]
     },
     "execution_count": 5,
     "metadata": {},
     "output_type": "execute_result"
    }
   ],
   "source": [
    "model = keras.models.Sequential([\n",
    "        keras.layers.Input(shape=(784,)),\n",
    "    keras.layers.Dense(128, activation='relu'),\n",
    "    keras.layers.Dense(64, activation='relu'),\n",
    "    keras.layers.Dense(10, activation='softmax')\n",
    "])\n",
    "\n",
    "# Make a graphical representation of the model...\n",
    "keras.utils.plot_model(model,show_shapes=True)\n",
    "model.summary"
   ]
  },
  {
   "cell_type": "markdown",
   "metadata": {
    "id": "7oDNvKB6dXZL"
   },
   "source": [
    "#### Compile and Train\n",
    "Choose an optimizer- method that minimizes loss function\n",
    "\n",
    "**adam** optimizer is one of the popular choices. You should read about these online"
   ]
  },
  {
   "cell_type": "code",
   "execution_count": 9,
   "metadata": {
    "colab": {
     "base_uri": "https://localhost:8080/"
    },
    "executionInfo": {
     "elapsed": 16212,
     "status": "ok",
     "timestamp": 1748437600395,
     "user": {
      "displayName": "Saloni Kumari",
      "userId": "10225912248030534230"
     },
     "user_tz": -330
    },
    "id": "7DM9i_F5dXZL",
    "outputId": "7b0f54f3-c91a-4edb-d414-ea4b0dd93f31"
   },
   "outputs": [
    {
     "name": "stdout",
     "output_type": "stream",
     "text": [
      "Epoch 1/10\n",
      "\u001b[1m98/98\u001b[0m \u001b[32m━━━━━━━━━━━━━━━━━━━━\u001b[0m\u001b[37m\u001b[0m \u001b[1m3s\u001b[0m 13ms/step - accuracy: 0.6781 - loss: 1.1130 - val_accuracy: 0.9235 - val_loss: 0.2684\n",
      "Epoch 2/10\n",
      "\u001b[1m98/98\u001b[0m \u001b[32m━━━━━━━━━━━━━━━━━━━━\u001b[0m\u001b[37m\u001b[0m \u001b[1m2s\u001b[0m 11ms/step - accuracy: 0.9289 - loss: 0.2470 - val_accuracy: 0.9428 - val_loss: 0.1994\n",
      "Epoch 3/10\n",
      "\u001b[1m98/98\u001b[0m \u001b[32m━━━━━━━━━━━━━━━━━━━━\u001b[0m\u001b[37m\u001b[0m \u001b[1m1s\u001b[0m 10ms/step - accuracy: 0.9487 - loss: 0.1807 - val_accuracy: 0.9533 - val_loss: 0.1609\n",
      "Epoch 4/10\n",
      "\u001b[1m98/98\u001b[0m \u001b[32m━━━━━━━━━━━━━━━━━━━━\u001b[0m\u001b[37m\u001b[0m \u001b[1m1s\u001b[0m 13ms/step - accuracy: 0.9584 - loss: 0.1424 - val_accuracy: 0.9566 - val_loss: 0.1428\n",
      "Epoch 5/10\n",
      "\u001b[1m98/98\u001b[0m \u001b[32m━━━━━━━━━━━━━━━━━━━━\u001b[0m\u001b[37m\u001b[0m \u001b[1m2s\u001b[0m 18ms/step - accuracy: 0.9665 - loss: 0.1176 - val_accuracy: 0.9624 - val_loss: 0.1298\n",
      "Epoch 6/10\n",
      "\u001b[1m98/98\u001b[0m \u001b[32m━━━━━━━━━━━━━━━━━━━━\u001b[0m\u001b[37m\u001b[0m \u001b[1m2s\u001b[0m 11ms/step - accuracy: 0.9698 - loss: 0.1019 - val_accuracy: 0.9637 - val_loss: 0.1204\n",
      "Epoch 7/10\n",
      "\u001b[1m98/98\u001b[0m \u001b[32m━━━━━━━━━━━━━━━━━━━━\u001b[0m\u001b[37m\u001b[0m \u001b[1m1s\u001b[0m 11ms/step - accuracy: 0.9759 - loss: 0.0848 - val_accuracy: 0.9678 - val_loss: 0.1080\n",
      "Epoch 8/10\n",
      "\u001b[1m98/98\u001b[0m \u001b[32m━━━━━━━━━━━━━━━━━━━━\u001b[0m\u001b[37m\u001b[0m \u001b[1m1s\u001b[0m 11ms/step - accuracy: 0.9796 - loss: 0.0734 - val_accuracy: 0.9692 - val_loss: 0.1086\n",
      "Epoch 9/10\n",
      "\u001b[1m98/98\u001b[0m \u001b[32m━━━━━━━━━━━━━━━━━━━━\u001b[0m\u001b[37m\u001b[0m \u001b[1m1s\u001b[0m 11ms/step - accuracy: 0.9806 - loss: 0.0677 - val_accuracy: 0.9690 - val_loss: 0.1019\n",
      "Epoch 10/10\n",
      "\u001b[1m98/98\u001b[0m \u001b[32m━━━━━━━━━━━━━━━━━━━━\u001b[0m\u001b[37m\u001b[0m \u001b[1m1s\u001b[0m 10ms/step - accuracy: 0.9838 - loss: 0.0575 - val_accuracy: 0.9701 - val_loss: 0.0995\n"
     ]
    }
   ],
   "source": [
    "model.compile(optimizer=\"adam\",loss = \"sparse_categorical_crossentropy\",metrics=[\"accuracy\"])\n",
    "\n",
    "n_epochs = 10             # set number of epochs\n",
    "batch_size = 512            # you can tweak with these parametrs\n",
    "history = model.fit(x_train_flatten, y_train,\n",
    "                    epochs=n_epochs,\n",
    "                    batch_size=batch_size,\n",
    "                    validation_data=(x_validation, y_validation))"
   ]
  },
  {
   "cell_type": "markdown",
   "metadata": {
    "id": "7QTWTtoVdXZM"
   },
   "source": [
    "### **Evaluate**\n",
    "Evaluate your model on test data.\n",
    "\n",
    "And Show some results"
   ]
  },
  {
   "cell_type": "code",
   "execution_count": 12,
   "metadata": {
    "colab": {
     "base_uri": "https://localhost:8080/",
     "height": 981
    },
    "executionInfo": {
     "elapsed": 1815,
     "status": "ok",
     "timestamp": 1748437668553,
     "user": {
      "displayName": "Saloni Kumari",
      "userId": "10225912248030534230"
     },
     "user_tz": -330
    },
    "id": "bhuBGWg-dXZM",
    "outputId": "233e530a-76ab-4919-b8d4-a138b6e28825"
   },
   "outputs": [
    {
     "name": "stdout",
     "output_type": "stream",
     "text": [
      "\u001b[1m313/313\u001b[0m \u001b[32m━━━━━━━━━━━━━━━━━━━━\u001b[0m\u001b[37m\u001b[0m \u001b[1m1s\u001b[0m 2ms/step - accuracy: 0.9678 - loss: 0.1016\n",
      "Loss =  0.08815107494592667\n",
      "Accuracy =  97.2599983215332 %\n"
     ]
    },
    {
     "data": {
      "image/png": "[encoded data removed]",
      "text/plain": [
       "<Figure size 640x480 with 1 Axes>"
      ]
     },
     "metadata": {},
     "output_type": "display_data"
    },
    {
     "data": {
      "image/png": "[encoded data removed]",
      "text/plain": [
       "<Figure size 640x480 with 1 Axes>"
      ]
     },
     "metadata": {},
     "output_type": "display_data"
    }
   ],
   "source": [
    "results = model.evaluate(x_test_flatten, y_test)\n",
    "print(\"Loss = \",results[0])\n",
    "print(\"Accuracy = \",results[1]*100,\"%\")\n",
    "\n",
    "# Plot Accuracy...\n",
    "plt.plot(history.history['accuracy'], label=\"Training accuracy\") # Use history.history['accuracy']\n",
    "plt.plot(history.history['val_accuracy'], label=\"validation Accuracy\") # Use history.history['val_accuracy']\n",
    "plt.title(\"Model accuracy\")\n",
    "plt.xlabel(\"Epochs\")\n",
    "plt.ylabel(\"Accuracy\")\n",
    "plt.legend()\n",
    "plt.show()\n",
    "\n",
    "# Similarly write code to plot loss...\n",
    "plt.plot(history.history['loss'], label=\"Training Loss\")\n",
    "plt.plot(history.history['val_loss'], label=\"Validation Loss\")\n",
    "plt.title(\"Model Loss\")\n",
    "plt.xlabel(\"Epochs\")\n",
    "plt.ylabel(\"Loss\")\n",
    "plt.legend()\n",
    "plt.show()\n",
    "\n",
    "\n",
    "\n"
   ]
  },
  {
   "cell_type": "markdown",
   "metadata": {
    "id": "4Hjr0CBhdXZN"
   },
   "source": [
    "Lets show our results on images from testing dataset"
   ]
  },
  {
   "cell_type": "code",
   "execution_count": 14,
   "metadata": {
    "colab": {
     "base_uri": "https://localhost:8080/",
     "height": 285
    },
    "executionInfo": {
     "elapsed": 1044,
     "status": "ok",
     "timestamp": 1748437866894,
     "user": {
      "displayName": "Saloni Kumari",
      "userId": "10225912248030534230"
     },
     "user_tz": -330
    },
    "id": "2EX4-u7cA922",
    "outputId": "f34bcc79-f4ed-48e5-9084-c92dbb6b0066"
   },
   "outputs": [
    {
     "name": "stdout",
     "output_type": "stream",
     "text": [
      "label: \n",
      "1       7       4       3       8       "
     ]
    },
    {
     "data": {
      "image/png": "[encoded data removed]",
      "text/plain": [
       "<Figure size 640x480 with 5 Axes>"
      ]
     },
     "metadata": {},
     "output_type": "display_data"
    },
    {
     "name": "stdout",
     "output_type": "stream",
     "text": [
      "Predicted value: \n",
      "\u001b[1m1/1\u001b[0m \u001b[32m━━━━━━━━━━━━━━━━━━━━\u001b[0m\u001b[37m\u001b[0m \u001b[1m0s\u001b[0m 74ms/step\n",
      "\u001b[1m1/1\u001b[0m \u001b[32m━━━━━━━━━━━━━━━━━━━━\u001b[0m\u001b[37m\u001b[0m \u001b[1m0s\u001b[0m 37ms/step\n",
      "\u001b[1m1/1\u001b[0m \u001b[32m━━━━━━━━━━━━━━━━━━━━\u001b[0m\u001b[37m\u001b[0m \u001b[1m0s\u001b[0m 37ms/step\n",
      "\u001b[1m1/1\u001b[0m \u001b[32m━━━━━━━━━━━━━━━━━━━━\u001b[0m\u001b[37m\u001b[0m \u001b[1m0s\u001b[0m 37ms/step\n",
      "\u001b[1m1/1\u001b[0m \u001b[32m━━━━━━━━━━━━━━━━━━━━\u001b[0m\u001b[37m\u001b[0m \u001b[1m0s\u001b[0m 37ms/step\n",
      "8      "
     ]
    }
   ],
   "source": [
    "n = 5  # = no. of images to see predictions on\n",
    "\n",
    "index = np.random.choice(len(x_test), n, replace=False)  # choose random index from test data\n",
    "print(\"label: \")\n",
    "\n",
    "for i,ind in enumerate(index):\n",
    "    plt.subplot(1,n,i+1)\n",
    "    plt.imshow(x_test[ind], cmap='gray')             # fill code to show images from test set\n",
    "    plt.axis(\"off\")\n",
    "    print(y_test[ind],end=\"       \")\n",
    "\n",
    "plt.show()\n",
    "print(\"Predicted value: \")\n",
    "\n",
    "# Now lets print the predictions\n",
    "\n",
    "for i,ind in enumerate(index):\n",
    "    # write code to predict and print digit in image\n",
    "    # Hint: the output of the model is a 10-d vector which gives probabilties\n",
    "    # The digit in the image would be the class for which probability is hghest...\n",
    "    # Reshape to (1, 784) which is the expected input shape for the model\n",
    "    img = x_test[ind].reshape(1, 784)\n",
    "    pred = model.predict(img)\n",
    "    digit = np.argmax(pred)\n",
    "\n",
    "\n",
    "    print(digit,end=\"      \")"
   ]
  },
  {
   "cell_type": "code",
   "execution_count": null,
   "metadata": {
    "id": "7bRgmflIBJO_"
   },
   "outputs": [],
   "source": []
  }
 ],
 "metadata": {
  "colab": {
   "provenance": [
    {
     "file_id": "1ngnWRqbpj5TNz3Idq2cfooa0OsIT7jvU",
     "timestamp": 1748437894948
    },
    {
     "file_id": "1xhH47coWA5tuzMdcgxRzsSa9GXKNpnIU",
     "timestamp": 1748436757564
    },
    {
     "file_id": "1VH6yrglT6IFLzpiHeJZxA7Oun2s3IQ-D",
     "timestamp": 1748168962554
    },
    {
     "file_id": "1d4hX-V-dgs_wOqUDY3ht4wKlRyC8VmGp",
     "timestamp": 1733569901466
    },
    {
     "file_id": "1ZSXd0svqcWXqfyC_RXfxQYfdnDzV8VyS",
     "timestamp": 1715937933644
    },
    {
     "file_id": "1G0HA0O3qU5M9qFeZP4v3QhLyPdAWReSV",
     "timestamp": 1642843495024
    },
    {
     "file_id": "13GsIL6AVXN4pFFsc2zYdVuFVhJ2dnjp4",
     "timestamp": 1642755707968
    }
   ]
  },
  "interpreter": {
   "hash": "31f2aee4e71d21fbe5cf8b01ff0e069b9275f58929596ceb00d14d90e3e16cd6"
  },
  "kernelspec": {
   "display_name": "Python 3.8.10 64-bit",
   "language": "python",
   "name": "python3"
  },
  "language_info": {
   "codemirror_mode": {
    "name": "ipython",
    "version": 3
   },
   "file_extension": ".py",
   "mimetype": "text/x-python",
   "name": "python",
   "nbconvert_exporter": "python",
   "pygments_lexer": "ipython3",
   "version": "3.8.10"
  },
  "orig_nbformat": 4
 },
 "nbformat": 4,
 "nbformat_minor": 0
}
